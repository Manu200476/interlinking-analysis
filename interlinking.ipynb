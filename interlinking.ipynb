{
 "cells": [
  {
   "cell_type": "code",
   "execution_count": null,
   "metadata": {
    "id": "t76T34vSGwuf"
   },
   "outputs": [],
   "source": [
    "pip install pandas networkx numpy matplotlib"
   ]
  },
  {
   "cell_type": "code",
   "execution_count": null,
   "metadata": {
    "id": "0HhYrm8MGoEd"
   },
   "outputs": [],
   "source": [
    "import pandas as pd\n",
    "import networkx as nx\n",
    "import numpy as np\n",
    "from matplotlib import pyplot as plt"
   ]
  },
  {
   "cell_type": "code",
   "execution_count": null,
   "metadata": {
    "id": "MJG2R9F4IE3W"
   },
   "outputs": [],
   "source": [
    "def match_inlinks(list_inliks, domain):\n",
    "    listwithtuples = []\n",
    "\n",
    "    for x in list_inliks:\n",
    "        if x[0] == \"Hyperlink\" and x[1].count(\"/\") <= x[2].count(\"/\") and domain in x[2]:\n",
    "            tuple_links = (x[1], x[2])\n",
    "            listwithtuples.append(tuple_links)\n",
    "    \n",
    "    noduplicates = list(dict.fromkeys(listwithtuples))\n",
    "    return noduplicates\n",
    "\n",
    "\n",
    "def colors_index(nodes, inlinks_list):\n",
    "    list_colors = []\n",
    "    for node in nodes:\n",
    "        match = False\n",
    "        for x in inlinks_list:\n",
    "            if node == x[0]:\n",
    "                match = True\n",
    "                if x[4] == \"Non-Indexable\":\n",
    "                    list_colors.append(\"red\")\n",
    "                else:\n",
    "                    list_colors.append(\"blue\")\n",
    "\n",
    "        if match == False:\n",
    "            list_colors.append(\"yellow\")\n",
    "    \n",
    "    return list_colors\n",
    "\n",
    "\n",
    "def size_of_node(degree):\n",
    "    dictionary_degree = dict(degree)\n",
    "    sort_dictionary_degree = dict(sorted(dictionary_degree.items(), key=lambda item: item[1], reverse=True))\n",
    "    counter = 0\n",
    "\n",
    "    for key, value in sort_dictionary_degree.items():\n",
    "        if counter < 5:\n",
    "            sort_dictionary_degree[key] = key\n",
    "        else:\n",
    "            sort_dictionary_degree[key] = \"\"\n",
    "\n",
    "        counter = counter + 1\n",
    "\n",
    "    return sort_dictionary_degree"
   ]
  },
  {
   "cell_type": "code",
   "execution_count": null,
   "metadata": {
    "id": "SZ7gKQ3bGtZB"
   },
   "outputs": [],
   "source": [
    "domain = ''"
   ]
  },
  {
   "cell_type": "code",
   "execution_count": null,
   "metadata": {
    "id": "9f-epS-wG_bY"
   },
   "outputs": [],
   "source": [
    "inlinks_df = pd.read_csv('./all_inlinks.csv')\n",
    "list_inlinks = inlinks_df.values.tolist()"
   ]
  },
  {
   "cell_type": "code",
   "execution_count": null,
   "metadata": {},
   "outputs": [],
   "source": [
    "match_links = match_inlinks(list_inlinks, domain)"
   ]
  },
  {
   "cell_type": "code",
   "execution_count": null,
   "metadata": {
    "id": "fkT3PArQHFfj"
   },
   "outputs": [],
   "source": [
    "G = nx.Graph()\n",
    "G.add_edges_from(match_links)\n",
    "\n",
    "pos = nx.spring_layout(G, k=0.3*1/np.sqrt(len(G.nodes())), iterations=20)\n",
    "plt.figure(3, figsize=(30, 30))\n",
    "nx.draw(G,pos, with_labels=True)\n",
    " \n",
    "plt.savefig(\"graph.png\")\n",
    " \n",
    "plt.show()"
   ]
  },
  {
   "cell_type": "code",
   "execution_count": null,
   "metadata": {},
   "outputs": [],
   "source": [
    "df = pd.read_csv('./internal_html.csv')\n",
    "list_all = df.values.tolist()"
   ]
  },
  {
   "cell_type": "code",
   "execution_count": null,
   "metadata": {},
   "outputs": [],
   "source": [
    "get_colors = colors_index(G.nodes, list_all)\n",
    "get_node_size = size_of_node(G.degree)"
   ]
  },
  {
   "cell_type": "code",
   "execution_count": null,
   "metadata": {},
   "outputs": [],
   "source": [
    "pos = nx.spring_layout(G, k=0.3*1/np.sqrt(len(G.nodes())), iterations=20)\n",
    "plt.figure(3, figsize=(30, 30))\n",
    "dictionary_degree = dict(G.degree)\n",
    "\n",
    "nx.draw(G,pos, with_labels=False, node_size = [10 + v * 300 for v in dictionary_degree.values()],node_color = get_colors, font_size = 15)\n",
    "nx.draw_networkx_labels(G,pos,get_node_size,font_size=25,font_color='r')\n",
    "\n",
    "plt.savefig(\"graph_with_colors.png\")\n",
    "\n",
    "plt.show()"
   ]
  }
 ],
 "metadata": {
  "colab": {
   "collapsed_sections": [],
   "name": "interlinking-analysis.ipynb",
   "provenance": []
  },
  "kernelspec": {
   "display_name": "Python 3 (ipykernel)",
   "language": "python",
   "name": "python3"
  },
  "language_info": {
   "codemirror_mode": {
    "name": "ipython",
    "version": 3
   },
   "file_extension": ".py",
   "mimetype": "text/x-python",
   "name": "python",
   "nbconvert_exporter": "python",
   "pygments_lexer": "ipython3",
   "version": "3.9.4"
  }
 },
 "nbformat": 4,
 "nbformat_minor": 4
}
